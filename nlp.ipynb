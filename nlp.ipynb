{
 "cells": [
  {
   "cell_type": "markdown",
   "metadata": {
    "id": "FqLPym_CmGgM"
   },
   "source": [
    "# Disaster Tweets"
   ]
  },
  {
   "cell_type": "markdown",
   "metadata": {
    "id": "ChQi5OLxrJYJ"
   },
   "source": [
    "## Description\n",
    "This is notebook to build RNN for disaster tweet classification. The intention is use this RNN to classify tweet (text) if it's a about a real disaster or not. Our aim is get classification model with the most accuracy possible."
   ]
  },
  {
   "cell_type": "markdown",
   "metadata": {
    "id": "FdzI4X1rseyF"
   },
   "source": [
    "source : https://www.kaggle.com/competitions/nlp-getting-started/data\n",
    "\n",
    "data type : CSV (5 columns)\n",
    "\n",
    "data size : 7613 rows (988 KB)\n",
    "\n",
    "Describe for each column\n",
    "- id : a unique identifier for each tweet\n",
    "- text : the text of the tweet\n",
    "- location : the location the tweet was sent from (may be blank)\n",
    "- keyword : a particular keyword from the tweet (may be blank)\n",
    "- target : this denotes whether a tweet is about a real disaster (1) or not (0)"
   ]
  },
  {
   "cell_type": "code",
   "execution_count": 1,
   "metadata": {
    "id": "EDXFg3Hwq0EA"
   },
   "outputs": [],
   "source": [
    "import pandas as pd\n",
    "import numpy as np\n",
    "import matplotlib.pyplot as plt\n",
    "import tensorflow as tf\n",
    "from collections import Counter\n",
    "from sklearn.model_selection import train_test_split\n",
    "from tensorflow.keras import layers\n",
    "from tensorflow.keras.preprocessing.text import Tokenizer\n",
    "from tensorflow.keras.models import Sequential"
   ]
  },
  {
   "cell_type": "code",
   "execution_count": 2,
   "metadata": {
    "colab": {
     "base_uri": "https://localhost:8080/"
    },
    "id": "w_6SSVmVsbyv",
    "outputId": "3b6ee307-a512-4ba8-e63a-14949ee148d3"
   },
   "outputs": [
    {
     "name": "stdout",
     "output_type": "stream",
     "text": [
      "<class 'pandas.core.frame.DataFrame'>\n",
      "RangeIndex: 7613 entries, 0 to 7612\n",
      "Data columns (total 5 columns):\n",
      " #   Column    Non-Null Count  Dtype \n",
      "---  ------    --------------  ----- \n",
      " 0   id        7613 non-null   int64 \n",
      " 1   keyword   7552 non-null   object\n",
      " 2   location  5080 non-null   object\n",
      " 3   text      7613 non-null   object\n",
      " 4   target    7613 non-null   int64 \n",
      "dtypes: int64(2), object(3)\n",
      "memory usage: 297.5+ KB\n"
     ]
    }
   ],
   "source": [
    "data = pd.read_csv('./nlp-getting-started/train.csv')\n",
    "test_data = pd.read_csv('./nlp-getting-started/test.csv')\n",
    "data.info()"
   ]
  },
  {
   "cell_type": "code",
   "execution_count": 3,
   "metadata": {
    "colab": {
     "base_uri": "https://localhost:8080/",
     "height": 206
    },
    "id": "8bGKV6sasFVX",
    "outputId": "e210b9f2-28d2-499d-cc95-7a2c66f68dae"
   },
   "outputs": [
    {
     "data": {
      "text/html": [
       "<div>\n",
       "<style scoped>\n",
       "    .dataframe tbody tr th:only-of-type {\n",
       "        vertical-align: middle;\n",
       "    }\n",
       "\n",
       "    .dataframe tbody tr th {\n",
       "        vertical-align: top;\n",
       "    }\n",
       "\n",
       "    .dataframe thead th {\n",
       "        text-align: right;\n",
       "    }\n",
       "</style>\n",
       "<table border=\"1\" class=\"dataframe\">\n",
       "  <thead>\n",
       "    <tr style=\"text-align: right;\">\n",
       "      <th></th>\n",
       "      <th>id</th>\n",
       "      <th>keyword</th>\n",
       "      <th>location</th>\n",
       "      <th>text</th>\n",
       "      <th>target</th>\n",
       "    </tr>\n",
       "  </thead>\n",
       "  <tbody>\n",
       "    <tr>\n",
       "      <th>0</th>\n",
       "      <td>1</td>\n",
       "      <td>NaN</td>\n",
       "      <td>NaN</td>\n",
       "      <td>Our Deeds are the Reason of this #earthquake M...</td>\n",
       "      <td>1</td>\n",
       "    </tr>\n",
       "    <tr>\n",
       "      <th>1</th>\n",
       "      <td>4</td>\n",
       "      <td>NaN</td>\n",
       "      <td>NaN</td>\n",
       "      <td>Forest fire near La Ronge Sask. Canada</td>\n",
       "      <td>1</td>\n",
       "    </tr>\n",
       "    <tr>\n",
       "      <th>2</th>\n",
       "      <td>5</td>\n",
       "      <td>NaN</td>\n",
       "      <td>NaN</td>\n",
       "      <td>All residents asked to 'shelter in place' are ...</td>\n",
       "      <td>1</td>\n",
       "    </tr>\n",
       "    <tr>\n",
       "      <th>3</th>\n",
       "      <td>6</td>\n",
       "      <td>NaN</td>\n",
       "      <td>NaN</td>\n",
       "      <td>13,000 people receive #wildfires evacuation or...</td>\n",
       "      <td>1</td>\n",
       "    </tr>\n",
       "    <tr>\n",
       "      <th>4</th>\n",
       "      <td>7</td>\n",
       "      <td>NaN</td>\n",
       "      <td>NaN</td>\n",
       "      <td>Just got sent this photo from Ruby #Alaska as ...</td>\n",
       "      <td>1</td>\n",
       "    </tr>\n",
       "  </tbody>\n",
       "</table>\n",
       "</div>"
      ],
      "text/plain": [
       "   id keyword location                                               text  \\\n",
       "0   1     NaN      NaN  Our Deeds are the Reason of this #earthquake M...   \n",
       "1   4     NaN      NaN             Forest fire near La Ronge Sask. Canada   \n",
       "2   5     NaN      NaN  All residents asked to 'shelter in place' are ...   \n",
       "3   6     NaN      NaN  13,000 people receive #wildfires evacuation or...   \n",
       "4   7     NaN      NaN  Just got sent this photo from Ruby #Alaska as ...   \n",
       "\n",
       "   target  \n",
       "0       1  \n",
       "1       1  \n",
       "2       1  \n",
       "3       1  \n",
       "4       1  "
      ]
     },
     "execution_count": 3,
     "metadata": {},
     "output_type": "execute_result"
    }
   ],
   "source": [
    "data.head()"
   ]
  },
  {
   "cell_type": "code",
   "execution_count": 4,
   "metadata": {
    "colab": {
     "base_uri": "https://localhost:8080/",
     "height": 300
    },
    "id": "VyzGFakDsKfl",
    "outputId": "c9a7dcaf-338c-4538-9c18-7267784b658b"
   },
   "outputs": [
    {
     "data": {
      "text/html": [
       "<div>\n",
       "<style scoped>\n",
       "    .dataframe tbody tr th:only-of-type {\n",
       "        vertical-align: middle;\n",
       "    }\n",
       "\n",
       "    .dataframe tbody tr th {\n",
       "        vertical-align: top;\n",
       "    }\n",
       "\n",
       "    .dataframe thead th {\n",
       "        text-align: right;\n",
       "    }\n",
       "</style>\n",
       "<table border=\"1\" class=\"dataframe\">\n",
       "  <thead>\n",
       "    <tr style=\"text-align: right;\">\n",
       "      <th></th>\n",
       "      <th>id</th>\n",
       "      <th>target</th>\n",
       "    </tr>\n",
       "  </thead>\n",
       "  <tbody>\n",
       "    <tr>\n",
       "      <th>count</th>\n",
       "      <td>7613.000000</td>\n",
       "      <td>7613.00000</td>\n",
       "    </tr>\n",
       "    <tr>\n",
       "      <th>mean</th>\n",
       "      <td>5441.934848</td>\n",
       "      <td>0.42966</td>\n",
       "    </tr>\n",
       "    <tr>\n",
       "      <th>std</th>\n",
       "      <td>3137.116090</td>\n",
       "      <td>0.49506</td>\n",
       "    </tr>\n",
       "    <tr>\n",
       "      <th>min</th>\n",
       "      <td>1.000000</td>\n",
       "      <td>0.00000</td>\n",
       "    </tr>\n",
       "    <tr>\n",
       "      <th>25%</th>\n",
       "      <td>2734.000000</td>\n",
       "      <td>0.00000</td>\n",
       "    </tr>\n",
       "    <tr>\n",
       "      <th>50%</th>\n",
       "      <td>5408.000000</td>\n",
       "      <td>0.00000</td>\n",
       "    </tr>\n",
       "    <tr>\n",
       "      <th>75%</th>\n",
       "      <td>8146.000000</td>\n",
       "      <td>1.00000</td>\n",
       "    </tr>\n",
       "    <tr>\n",
       "      <th>max</th>\n",
       "      <td>10873.000000</td>\n",
       "      <td>1.00000</td>\n",
       "    </tr>\n",
       "  </tbody>\n",
       "</table>\n",
       "</div>"
      ],
      "text/plain": [
       "                 id      target\n",
       "count   7613.000000  7613.00000\n",
       "mean    5441.934848     0.42966\n",
       "std     3137.116090     0.49506\n",
       "min        1.000000     0.00000\n",
       "25%     2734.000000     0.00000\n",
       "50%     5408.000000     0.00000\n",
       "75%     8146.000000     1.00000\n",
       "max    10873.000000     1.00000"
      ]
     },
     "execution_count": 4,
     "metadata": {},
     "output_type": "execute_result"
    }
   ],
   "source": [
    "data.describe()"
   ]
  },
  {
   "cell_type": "code",
   "execution_count": 5,
   "metadata": {
    "colab": {
     "base_uri": "https://localhost:8080/"
    },
    "id": "UDc27Y41tNU6",
    "outputId": "b992c1b0-70ea-4a65-f402-776e19a7ae90"
   },
   "outputs": [
    {
     "data": {
      "text/plain": [
       "id             0\n",
       "keyword       61\n",
       "location    2533\n",
       "text           0\n",
       "target         0\n",
       "dtype: int64"
      ]
     },
     "execution_count": 5,
     "metadata": {},
     "output_type": "execute_result"
    }
   ],
   "source": [
    "data.isna().sum()"
   ]
  },
  {
   "cell_type": "code",
   "execution_count": 6,
   "metadata": {
    "colab": {
     "base_uri": "https://localhost:8080/"
    },
    "id": "wYptxg-Et3oG",
    "outputId": "f7484be1-1651-4ddc-e888-86a4b2390d79"
   },
   "outputs": [
    {
     "data": {
      "text/plain": [
       "id             0\n",
       "keyword       26\n",
       "location    1105\n",
       "text           0\n",
       "dtype: int64"
      ]
     },
     "execution_count": 6,
     "metadata": {},
     "output_type": "execute_result"
    }
   ],
   "source": [
    "test_data.isna().sum()"
   ]
  },
  {
   "cell_type": "markdown",
   "metadata": {
    "id": "DoIEYT21uDlM"
   },
   "source": [
    "Since test data have empty keyword and location. So, I will use only text data to train the model."
   ]
  },
  {
   "cell_type": "code",
   "execution_count": 7,
   "metadata": {
    "colab": {
     "base_uri": "https://localhost:8080/"
    },
    "id": "bNgwru3XdoX-",
    "outputId": "3e2aba88-d8db-4cfe-cb86-a534fca9a0a6"
   },
   "outputs": [
    {
     "name": "stdout",
     "output_type": "stream",
     "text": [
      "7503\n"
     ]
    }
   ],
   "source": [
    "print(data['text'].nunique())"
   ]
  },
  {
   "cell_type": "markdown",
   "metadata": {
    "id": "wQtbuIxPkjS7"
   },
   "source": [
    "We have duplicated data. Let's see if same text have the same target or class or not."
   ]
  },
  {
   "cell_type": "code",
   "execution_count": 8,
   "metadata": {
    "colab": {
     "base_uri": "https://localhost:8080/"
    },
    "id": "ZTENkwsvkKBg",
    "outputId": "f01505ee-6987-4ffc-df25-70a7ca1c9d02"
   },
   "outputs": [
    {
     "name": "stdout",
     "output_type": "stream",
     "text": [
      "1  target nunique =  2  id nunique =  3\n",
      "8  target nunique =  2  id nunique =  3\n",
      "12  target nunique =  2  id nunique =  4\n",
      "25  target nunique =  2  id nunique =  3\n",
      "26  target nunique =  2  id nunique =  2\n",
      "33  target nunique =  2  id nunique =  6\n",
      "34  target nunique =  2  id nunique =  3\n",
      "36  target nunique =  2  id nunique =  2\n",
      "38  target nunique =  2  id nunique =  2\n",
      "40  target nunique =  2  id nunique =  2\n",
      "45  target nunique =  2  id nunique =  2\n",
      "49  target nunique =  2  id nunique =  2\n",
      "53  target nunique =  2  id nunique =  6\n",
      "54  target nunique =  2  id nunique =  4\n",
      "61  target nunique =  2  id nunique =  3\n",
      "66  target nunique =  2  id nunique =  2\n",
      "68  target nunique =  2  id nunique =  4\n",
      "69  target nunique =  2  id nunique =  2\n"
     ]
    }
   ],
   "source": [
    "groupped = data.groupby('text')\n",
    "c = 1\n",
    "for k,v in groupped:\n",
    "    if v.shape[0]>1:\n",
    "        if v['target'].nunique() > 1:\n",
    "          print(c, ' target nunique = ', v['target'].nunique(), ' id nunique = ', v['id'].nunique())\n",
    "        c=c+1"
   ]
  },
  {
   "cell_type": "markdown",
   "metadata": {
    "id": "OiQJd21hnNBG"
   },
   "source": [
    "There are 69 set of duplication and some of them have 2 classes (target). We must clean up this mess."
   ]
  },
  {
   "cell_type": "markdown",
   "metadata": {
    "id": "1pu9q6bkog8x"
   },
   "source": [
    "## Clean Up\n",
    "I will remove all data in duplication in set with 2 classes and for duplication set with 1 class I will keep only one row from each set and remove the rest."
   ]
  },
  {
   "cell_type": "code",
   "execution_count": 9,
   "metadata": {
    "colab": {
     "base_uri": "https://localhost:8080/"
    },
    "id": "jJvxZbozoq3M",
    "outputId": "7f3385b1-3c5e-46e0-ba78-e892ebe7d90e"
   },
   "outputs": [
    {
     "name": "stdout",
     "output_type": "stream",
     "text": [
      "deleted  128 rows\n"
     ]
    }
   ],
   "source": [
    "toDel = []\n",
    "for k,v in groupped:\n",
    "    if v.shape[0]>1:\n",
    "      if v['target'].nunique() > 1:\n",
    "        toDel.extend(v['id'])\n",
    "      else:\n",
    "        toDel.extend(v['id'][1:])\n",
    "data = data[~data['id'].isin(toDel)]\n",
    "print('deleted ', len(toDel), 'rows')"
   ]
  },
  {
   "cell_type": "code",
   "execution_count": 10,
   "metadata": {
    "colab": {
     "base_uri": "https://localhost:8080/"
    },
    "id": "tIt6AxAJsgJn",
    "outputId": "d12c73bb-3ac3-4da6-8a4d-86f68038555d"
   },
   "outputs": [
    {
     "name": "stdout",
     "output_type": "stream",
     "text": [
      "cleaned data =  7485  rows\n"
     ]
    }
   ],
   "source": [
    "print('cleaned data = ', data.shape[0], ' rows')"
   ]
  },
  {
   "cell_type": "code",
   "execution_count": 11,
   "metadata": {
    "colab": {
     "base_uri": "https://localhost:8080/"
    },
    "id": "WsmFIW-qsiSj",
    "outputId": "40f9d714-d1a1-446c-9e2a-aa5f50484fde"
   },
   "outputs": [
    {
     "name": "stdout",
     "output_type": "stream",
     "text": [
      "[0 1]\n",
      "[4297 3188]\n"
     ]
    }
   ],
   "source": [
    "labels, labels_count = np.unique(data['target'], return_counts=True)\n",
    "print(labels)\n",
    "print(labels_count)"
   ]
  },
  {
   "cell_type": "markdown",
   "metadata": {
    "id": "UwqaVLHPs4mS"
   },
   "source": [
    "We have 4,297 negative data and 3,188 positive data."
   ]
  },
  {
   "cell_type": "code",
   "execution_count": 12,
   "metadata": {
    "id": "SkxgfcHXvapG"
   },
   "outputs": [],
   "source": [
    "tokenizer = Tokenizer()\n",
    "tokenizer.fit_on_texts(data.text)\n",
    "word_index = tokenizer.word_index"
   ]
  },
  {
   "cell_type": "code",
   "execution_count": 13,
   "metadata": {
    "colab": {
     "base_uri": "https://localhost:8080/"
    },
    "id": "xeaGsqB-4s2H",
    "outputId": "e13ee192-fc20-4e01-feb7-80b8c20473a2"
   },
   "outputs": [
    {
     "data": {
      "text/plain": [
       "22675"
      ]
     },
     "execution_count": 13,
     "metadata": {},
     "output_type": "execute_result"
    }
   ],
   "source": [
    "len(word_index)"
   ]
  },
  {
   "cell_type": "markdown",
   "metadata": {
    "id": "B1r5jjV14uOH"
   },
   "source": [
    "We have 22,675 unique words."
   ]
  },
  {
   "cell_type": "code",
   "execution_count": 14,
   "metadata": {
    "id": "5FHdmR6J4_oS"
   },
   "outputs": [],
   "source": [
    "# map word to index\n",
    "data_seq = tokenizer.texts_to_sequences(data.text)"
   ]
  },
  {
   "cell_type": "code",
   "execution_count": 15,
   "metadata": {
    "id": "4o2WERqL5b5R"
   },
   "outputs": [],
   "source": [
    "# count word for each text to df\n",
    "words = list(word_index.keys())\n",
    "wc = tokenizer.texts_to_matrix(data.text, mode='count')\n",
    "wcdf = pd.DataFrame(wc, columns=['<oov>'] + words)"
   ]
  },
  {
   "cell_type": "code",
   "execution_count": 16,
   "metadata": {
    "colab": {
     "base_uri": "https://localhost:8080/"
    },
    "id": "Gtfk3Rd0GGUi",
    "outputId": "965a8d75-237d-40e8-c313-48e2a795177d"
   },
   "outputs": [
    {
     "data": {
      "text/plain": [
       "count    22676.000000\n",
       "mean         5.551111\n",
       "std         66.981731\n",
       "min          0.000000\n",
       "25%          1.000000\n",
       "50%          1.000000\n",
       "75%          2.000000\n",
       "max       4709.000000\n",
       "dtype: float64"
      ]
     },
     "execution_count": 16,
     "metadata": {},
     "output_type": "execute_result"
    }
   ],
   "source": [
    "wcdf.sum().describe()"
   ]
  },
  {
   "cell_type": "code",
   "execution_count": 17,
   "metadata": {
    "colab": {
     "base_uri": "https://localhost:8080/"
    },
    "id": "zRLGEu6PGlC0",
    "outputId": "a82217c0-4c0e-4ab5-81f6-677ce95cd34e"
   },
   "outputs": [
    {
     "data": {
      "text/plain": [
       "t       4709.0\n",
       "co      4700.0\n",
       "http    4273.0\n",
       "the     3180.0\n",
       "a       2151.0\n",
       "dtype: float64"
      ]
     },
     "execution_count": 17,
     "metadata": {},
     "output_type": "execute_result"
    }
   ],
   "source": [
    "wcdf.sum().sort_values(ascending=False).head()"
   ]
  },
  {
   "cell_type": "markdown",
   "metadata": {
    "id": "ap-AMHCvHSDy"
   },
   "source": [
    "Those are top words in training data."
   ]
  },
  {
   "cell_type": "code",
   "execution_count": 18,
   "metadata": {
    "colab": {
     "base_uri": "https://localhost:8080/",
     "height": 462
    },
    "id": "0mAQavNZGngj",
    "outputId": "9a8866f2-9b31-4434-8bdd-0586d89285aa"
   },
   "outputs": [
    {
     "data": {
      "text/plain": [
       "None    AxesSubplot(0.125,0.125;0.775x0.755)\n",
       "dtype: object"
      ]
     },
     "execution_count": 18,
     "metadata": {},
     "output_type": "execute_result"
    },
    {
     "data": {
      "image/png": "[encoded data removed]",
      "text/plain": [
       "<Figure size 720x360 with 1 Axes>"
      ]
     },
     "metadata": {
      "needs_background": "light"
     },
     "output_type": "display_data"
    }
   ],
   "source": [
    "wcdf.sum().plot(kind=\"box\", subplots=True, figsize =(10, 5))"
   ]
  },
  {
   "cell_type": "markdown",
   "metadata": {
    "id": "xBA-pwwlHONT"
   },
   "source": [
    "From boxplot above, we can see that most of tweet have less than 1,000 words."
   ]
  },
  {
   "cell_type": "code",
   "execution_count": 19,
   "metadata": {
    "colab": {
     "base_uri": "https://localhost:8080/"
    },
    "id": "fjN5a6WRHgNc",
    "outputId": "11f48c58-29b3-458e-90e1-daede641e92a"
   },
   "outputs": [
    {
     "data": {
      "text/plain": [
       "count    7485.000000\n",
       "mean       16.817234\n",
       "std         5.926167\n",
       "min         1.000000\n",
       "25%        13.000000\n",
       "50%        17.000000\n",
       "75%        21.000000\n",
       "max        33.000000\n",
       "dtype: float64"
      ]
     },
     "execution_count": 19,
     "metadata": {},
     "output_type": "execute_result"
    }
   ],
   "source": [
    "wcdf.sum(axis=1).describe()"
   ]
  },
  {
   "cell_type": "markdown",
   "metadata": {
    "id": "5hcHaR4fHo4z"
   },
   "source": [
    "We have avearge around 17 words per tweet."
   ]
  },
  {
   "cell_type": "code",
   "execution_count": 20,
   "metadata": {
    "colab": {
     "base_uri": "https://localhost:8080/",
     "height": 448
    },
    "id": "dySQbQsRHvE_",
    "outputId": "27c35dcb-6828-4cc6-fe18-b8a08b313e0b"
   },
   "outputs": [
    {
     "data": {
      "text/plain": [
       "<AxesSubplot:>"
      ]
     },
     "execution_count": 20,
     "metadata": {},
     "output_type": "execute_result"
    },
    {
     "data": {
      "image/png": "[encoded data removed]",
      "text/plain": [
       "<Figure size 432x288 with 1 Axes>"
      ]
     },
     "metadata": {
      "needs_background": "light"
     },
     "output_type": "display_data"
    }
   ],
   "source": [
    "wcdf.sum(axis=1).hist(bins=10)"
   ]
  },
  {
   "cell_type": "code",
   "execution_count": 21,
   "metadata": {
    "colab": {
     "base_uri": "https://localhost:8080/",
     "height": 496
    },
    "id": "FozeAwyvHxTJ",
    "outputId": "57bf5e46-cc9c-4b5f-fe62-e87da460b343"
   },
   "outputs": [
    {
     "data": {
      "text/plain": [
       "<AxesSubplot:title={'center':'count'}, xlabel='target'>"
      ]
     },
     "execution_count": 21,
     "metadata": {},
     "output_type": "execute_result"
    },
    {
     "data": {
      "image/png": "[encoded data removed]",
      "text/plain": [
       "<Figure size 432x288 with 1 Axes>"
      ]
     },
     "metadata": {
      "needs_background": "light"
     },
     "output_type": "display_data"
    }
   ],
   "source": [
    "pwcdf = pd.concat([wcdf.sum(axis=1), data['target'].reset_index(drop=True)], axis=1, keys=['count', 'target'])\n",
    "pwcdf.boxplot(column=['count'], by='target')"
   ]
  },
  {
   "cell_type": "markdown",
   "metadata": {
    "id": "qV_UzPSMKq9j"
   },
   "source": [
    "### Analysis\n",
    "We have 22,675 unique words which too much for training So, I would reduce it before reed to the model. The largest of tweet have 33 words. So, I think we can crate CNN with 33 features."
   ]
  },
  {
   "cell_type": "markdown",
   "metadata": {
    "id": "cX1A-zwDKxwM"
   },
   "source": [
    "## Classification\n",
    "First, I will try with simple CNN model as based line. Then, We will add more complexity to the model. I will also, try with small vocab size."
   ]
  },
  {
   "cell_type": "markdown",
   "metadata": {
    "id": "WZkrE1dGpLR2"
   },
   "source": [
    "Spliting data in to train and validation (validation for 20%)."
   ]
  },
  {
   "cell_type": "code",
   "execution_count": 22,
   "metadata": {
    "id": "mpRIAPXypTMy"
   },
   "outputs": [],
   "source": [
    "x_train, x_val, y_train, y_val = train_test_split(data.text, data.target, test_size=0.2, random_state=1992)"
   ]
  },
  {
   "cell_type": "code",
   "execution_count": 23,
   "metadata": {
    "id": "-PArPV33thLS"
   },
   "outputs": [],
   "source": [
    "# create vocab only from train data\n",
    "tokenizer = Tokenizer()\n",
    "tokenizer.fit_on_texts(x_train)\n",
    "word_index = tokenizer.word_index"
   ]
  },
  {
   "cell_type": "code",
   "execution_count": 24,
   "metadata": {
    "colab": {
     "base_uri": "https://localhost:8080/"
    },
    "id": "DWkKVYPJt9VA",
    "outputId": "ce1dd6a9-8a81-49c9-a815-6a9e6db5914c"
   },
   "outputs": [
    {
     "data": {
      "text/plain": [
       "19300"
      ]
     },
     "execution_count": 24,
     "metadata": {},
     "output_type": "execute_result"
    }
   ],
   "source": [
    "len(word_index)"
   ]
  },
  {
   "cell_type": "code",
   "execution_count": 25,
   "metadata": {
    "id": "IcIh1BjouG76"
   },
   "outputs": [],
   "source": [
    "x_train_seq = tokenizer.texts_to_sequences(x_train)\n",
    "x_val_seq = tokenizer.texts_to_sequences(x_val)"
   ]
  },
  {
   "cell_type": "markdown",
   "metadata": {
    "id": "M4Bi5dzpVN-4"
   },
   "source": [
    "We are going to padding. Therefore We must check longest of test data before doing it."
   ]
  },
  {
   "cell_type": "code",
   "execution_count": 26,
   "metadata": {
    "id": "lTyMcS3ubrDI"
   },
   "outputs": [],
   "source": [
    "test_data_seq = tokenizer.texts_to_sequences(test_data.text)"
   ]
  },
  {
   "cell_type": "code",
   "execution_count": 27,
   "metadata": {
    "colab": {
     "base_uri": "https://localhost:8080/"
    },
    "id": "vT1nYqIXcRHb",
    "outputId": "96d769bd-761a-4662-f61f-9dcd9339c3d1"
   },
   "outputs": [
    {
     "data": {
      "text/plain": [
       "30"
      ]
     },
     "execution_count": 27,
     "metadata": {},
     "output_type": "execute_result"
    }
   ],
   "source": [
    "max = 0\n",
    "for s in test_data_seq:\n",
    "  if max<len(s):\n",
    "    max = len(s)\n",
    "max"
   ]
  },
  {
   "cell_type": "markdown",
   "metadata": {
    "id": "00_rVz-_gtSp"
   },
   "source": [
    "So, We will pad to 33 words."
   ]
  },
  {
   "cell_type": "code",
   "execution_count": 28,
   "metadata": {
    "id": "K__X0lfzcSvy"
   },
   "outputs": [],
   "source": [
    "pad_x_train = tf.keras.utils.pad_sequences(x_train_seq, maxlen = 33)\n",
    "pad_x_val = tf.keras.utils.pad_sequences(x_val_seq, maxlen = 33)\n",
    "pad_x_test = tf.keras.utils.pad_sequences(test_data_seq, maxlen = 33)"
   ]
  },
  {
   "cell_type": "markdown",
   "metadata": {
    "id": "j5OemJDVhT8B"
   },
   "source": [
    "Next, we will build simple model as based line."
   ]
  },
  {
   "cell_type": "code",
   "execution_count": 29,
   "metadata": {
    "colab": {
     "base_uri": "https://localhost:8080/"
    },
    "id": "pUb-f05afUSt",
    "outputId": "c4107f2f-6e30-4ee4-e21d-f4b12866f5b9"
   },
   "outputs": [
    {
     "name": "stdout",
     "output_type": "stream",
     "text": [
      "Model: \"sequential\"\n",
      "_________________________________________________________________\n",
      " Layer (type)                Output Shape              Param #   \n",
      "=================================================================\n",
      " embedding (Embedding)       (None, 33, 64)            1451200   \n",
      "                                                                 \n",
      " simple_rnn (SimpleRNN)      (None, 128)               24704     \n",
      "                                                                 \n",
      " dense (Dense)               (None, 1)                 129       \n",
      "                                                                 \n",
      "=================================================================\n",
      "Total params: 1476033 (5.63 MB)\n",
      "Trainable params: 1476033 (5.63 MB)\n",
      "Non-trainable params: 0 (0.00 Byte)\n",
      "_________________________________________________________________\n"
     ]
    }
   ],
   "source": [
    "model0 = Sequential()\n",
    "model0.add(layers.Embedding(22675, 64, input_length = 33))\n",
    "model0.add(layers.SimpleRNN(128))\n",
    "model0.add(layers.Dense(1, activation = 'sigmoid'))\n",
    "model0.compile(optimizer=\"adam\", loss=\"mse\", metrics=[\"accuracy\"])\n",
    "model0.summary()"
   ]
  },
  {
   "cell_type": "code",
   "execution_count": 30,
   "metadata": {
    "colab": {
     "base_uri": "https://localhost:8080/"
    },
    "id": "wkdMVjT2fWCn",
    "outputId": "3db3cb84-5072-46ca-d48d-90063276d63d"
   },
   "outputs": [
    {
     "name": "stdout",
     "output_type": "stream",
     "text": [
      "Epoch 1/20\n",
      "188/188 [==============================] - 2s 7ms/step - loss: 0.2274 - accuracy: 0.6353 - val_loss: 0.2445 - val_accuracy: 0.5925\n",
      "Epoch 2/20\n",
      "188/188 [==============================] - 1s 7ms/step - loss: 0.0857 - accuracy: 0.8960 - val_loss: 0.2884 - val_accuracy: 0.5939\n",
      "Epoch 3/20\n",
      "188/188 [==============================] - 1s 7ms/step - loss: 0.0199 - accuracy: 0.9775 - val_loss: 0.2948 - val_accuracy: 0.5972\n",
      "Epoch 4/20\n",
      "188/188 [==============================] - 1s 7ms/step - loss: 0.0112 - accuracy: 0.9883 - val_loss: 0.2784 - val_accuracy: 0.6032\n",
      "Epoch 5/20\n",
      "188/188 [==============================] - 1s 7ms/step - loss: 0.0084 - accuracy: 0.9910 - val_loss: 0.2782 - val_accuracy: 0.5972\n",
      "Epoch 6/20\n",
      "188/188 [==============================] - 1s 7ms/step - loss: 0.0056 - accuracy: 0.9937 - val_loss: 0.2591 - val_accuracy: 0.6239\n",
      "Epoch 7/20\n",
      "188/188 [==============================] - 1s 7ms/step - loss: 0.0035 - accuracy: 0.9962 - val_loss: 0.2845 - val_accuracy: 0.6039\n",
      "Epoch 8/20\n",
      "188/188 [==============================] - 1s 7ms/step - loss: 0.0029 - accuracy: 0.9968 - val_loss: 0.2824 - val_accuracy: 0.6086\n",
      "Epoch 9/20\n",
      "188/188 [==============================] - 1s 7ms/step - loss: 0.0017 - accuracy: 0.9980 - val_loss: 0.2750 - val_accuracy: 0.6166\n",
      "Epoch 10/20\n",
      "188/188 [==============================] - 1s 7ms/step - loss: 0.0016 - accuracy: 0.9985 - val_loss: 0.2850 - val_accuracy: 0.6025\n",
      "Epoch 11/20\n",
      "188/188 [==============================] - 1s 7ms/step - loss: 0.0028 - accuracy: 0.9972 - val_loss: 0.3118 - val_accuracy: 0.5752\n",
      "Epoch 12/20\n",
      "188/188 [==============================] - 1s 7ms/step - loss: 0.0011 - accuracy: 0.9988 - val_loss: 0.2803 - val_accuracy: 0.6239\n",
      "Epoch 13/20\n",
      "188/188 [==============================] - 1s 7ms/step - loss: 0.0013 - accuracy: 0.9988 - val_loss: 0.2939 - val_accuracy: 0.5959\n",
      "Epoch 14/20\n",
      "188/188 [==============================] - 1s 7ms/step - loss: 0.0015 - accuracy: 0.9985 - val_loss: 0.2898 - val_accuracy: 0.6005\n",
      "Epoch 15/20\n",
      "188/188 [==============================] - 1s 7ms/step - loss: 0.0020 - accuracy: 0.9983 - val_loss: 0.2994 - val_accuracy: 0.6226\n",
      "Epoch 16/20\n",
      "188/188 [==============================] - 1s 7ms/step - loss: 0.0018 - accuracy: 0.9983 - val_loss: 0.2771 - val_accuracy: 0.6319\n",
      "Epoch 17/20\n",
      "188/188 [==============================] - 1s 7ms/step - loss: 0.0012 - accuracy: 0.9990 - val_loss: 0.3129 - val_accuracy: 0.5925\n",
      "Epoch 18/20\n",
      "188/188 [==============================] - 1s 7ms/step - loss: 9.8723e-04 - accuracy: 0.9990 - val_loss: 0.3118 - val_accuracy: 0.5872\n",
      "Epoch 19/20\n",
      "188/188 [==============================] - 1s 7ms/step - loss: 0.0013 - accuracy: 0.9987 - val_loss: 0.2989 - val_accuracy: 0.6019\n",
      "Epoch 20/20\n",
      "188/188 [==============================] - 1s 7ms/step - loss: 0.0020 - accuracy: 0.9978 - val_loss: 0.3219 - val_accuracy: 0.5711\n"
     ]
    }
   ],
   "source": [
    "history = model0.fit(pad_x_train, y_train, validation_data = (pad_x_val, y_val), epochs = 20)"
   ]
  },
  {
   "cell_type": "markdown",
   "metadata": {
    "id": "KeqKtE923hYE"
   },
   "source": [
    "Now we have our first model which simple but not working well. So, I will try to change to LSTM wihich make model more complex."
   ]
  },
  {
   "cell_type": "code",
   "execution_count": 31,
   "metadata": {
    "id": "w6uYSUWR31Ny"
   },
   "outputs": [
    {
     "name": "stdout",
     "output_type": "stream",
     "text": [
      "Model: \"sequential_1\"\n",
      "_________________________________________________________________\n",
      " Layer (type)                Output Shape              Param #   \n",
      "=================================================================\n",
      " embedding_1 (Embedding)     (None, 33, 64)            1451200   \n",
      "                                                                 \n",
      " lstm (LSTM)                 (None, 128)               98816     \n",
      "                                                                 \n",
      " dense_1 (Dense)             (None, 1)                 129       \n",
      "                                                                 \n",
      "=================================================================\n",
      "Total params: 1550145 (5.91 MB)\n",
      "Trainable params: 1550145 (5.91 MB)\n",
      "Non-trainable params: 0 (0.00 Byte)\n",
      "_________________________________________________________________\n"
     ]
    }
   ],
   "source": [
    "model1 = Sequential()\n",
    "model1.add(layers.Embedding(22675, 64, input_length = 33))\n",
    "model1.add(layers.LSTM(128))\n",
    "model1.add(layers.Dense(1, activation = 'sigmoid'))\n",
    "model1.compile(optimizer=\"adam\", loss=\"mse\", metrics=[\"accuracy\"])\n",
    "model1.summary()"
   ]
  },
  {
   "cell_type": "code",
   "execution_count": 32,
   "metadata": {
    "id": "_cgkVpqN33lu"
   },
   "outputs": [
    {
     "name": "stdout",
     "output_type": "stream",
     "text": [
      "Epoch 1/20\n",
      "188/188 [==============================] - 4s 19ms/step - loss: 0.1806 - accuracy: 0.7244 - val_loss: 0.1436 - val_accuracy: 0.8043\n",
      "Epoch 2/20\n",
      "188/188 [==============================] - 4s 19ms/step - loss: 0.0841 - accuracy: 0.8928 - val_loss: 0.1521 - val_accuracy: 0.7969\n",
      "Epoch 3/20\n",
      "188/188 [==============================] - 4s 19ms/step - loss: 0.0381 - accuracy: 0.9532 - val_loss: 0.1633 - val_accuracy: 0.7889\n",
      "Epoch 4/20\n",
      "188/188 [==============================] - 3s 18ms/step - loss: 0.0171 - accuracy: 0.9806 - val_loss: 0.1717 - val_accuracy: 0.7816\n",
      "Epoch 5/20\n",
      "188/188 [==============================] - 3s 18ms/step - loss: 0.0091 - accuracy: 0.9906 - val_loss: 0.1815 - val_accuracy: 0.7735\n",
      "Epoch 6/20\n",
      "188/188 [==============================] - 3s 18ms/step - loss: 0.0063 - accuracy: 0.9933 - val_loss: 0.1911 - val_accuracy: 0.7555\n",
      "Epoch 7/20\n",
      "188/188 [==============================] - 3s 19ms/step - loss: 0.0052 - accuracy: 0.9947 - val_loss: 0.2056 - val_accuracy: 0.7355\n",
      "Epoch 8/20\n",
      "188/188 [==============================] - 3s 18ms/step - loss: 0.0035 - accuracy: 0.9967 - val_loss: 0.2262 - val_accuracy: 0.7261\n",
      "Epoch 9/20\n",
      "188/188 [==============================] - 4s 19ms/step - loss: 0.0051 - accuracy: 0.9948 - val_loss: 0.2274 - val_accuracy: 0.7121\n",
      "Epoch 10/20\n",
      "188/188 [==============================] - 4s 19ms/step - loss: 0.0038 - accuracy: 0.9958 - val_loss: 0.2279 - val_accuracy: 0.7094\n",
      "Epoch 11/20\n",
      "188/188 [==============================] - 4s 19ms/step - loss: 0.0029 - accuracy: 0.9970 - val_loss: 0.2101 - val_accuracy: 0.7475\n",
      "Epoch 12/20\n",
      "188/188 [==============================] - 4s 20ms/step - loss: 0.0106 - accuracy: 0.9885 - val_loss: 0.2288 - val_accuracy: 0.6954\n",
      "Epoch 13/20\n",
      "188/188 [==============================] - 4s 20ms/step - loss: 0.0051 - accuracy: 0.9943 - val_loss: 0.2517 - val_accuracy: 0.6814\n",
      "Epoch 14/20\n",
      "188/188 [==============================] - 4s 19ms/step - loss: 0.0038 - accuracy: 0.9960 - val_loss: 0.2610 - val_accuracy: 0.6840\n",
      "Epoch 15/20\n",
      "188/188 [==============================] - 4s 20ms/step - loss: 0.0022 - accuracy: 0.9975 - val_loss: 0.2018 - val_accuracy: 0.7482\n",
      "Epoch 16/20\n",
      "188/188 [==============================] - 4s 20ms/step - loss: 0.0020 - accuracy: 0.9975 - val_loss: 0.2218 - val_accuracy: 0.7275\n",
      "Epoch 17/20\n",
      "188/188 [==============================] - 4s 20ms/step - loss: 0.0026 - accuracy: 0.9970 - val_loss: 0.2044 - val_accuracy: 0.7582\n",
      "Epoch 18/20\n",
      "188/188 [==============================] - 4s 20ms/step - loss: 0.0024 - accuracy: 0.9972 - val_loss: 0.2224 - val_accuracy: 0.7301\n",
      "Epoch 19/20\n",
      "188/188 [==============================] - 4s 20ms/step - loss: 0.0029 - accuracy: 0.9968 - val_loss: 0.2898 - val_accuracy: 0.6493\n",
      "Epoch 20/20\n",
      "188/188 [==============================] - 4s 20ms/step - loss: 0.0022 - accuracy: 0.9978 - val_loss: 0.2360 - val_accuracy: 0.7174\n"
     ]
    }
   ],
   "source": [
    "history = model1.fit(pad_x_train, y_train, validation_data = (pad_x_val, y_val), epochs = 20)"
   ]
  },
  {
   "cell_type": "markdown",
   "metadata": {
    "id": "JD58OV9Qn1hK"
   },
   "source": [
    "From result above I think it's overfitted. Because validation accuracy is not increase when test accuracy is increase."
   ]
  },
  {
   "cell_type": "markdown",
   "metadata": {
    "id": "yN1BdJaRyjUx"
   },
   "source": [
    "So, I will try to reduce vocab size which might fix overfitted issue."
   ]
  },
  {
   "cell_type": "markdown",
   "metadata": {
    "id": "I7QyizbySa4T"
   },
   "source": [
    "I think we can use only 1500 words to train."
   ]
  },
  {
   "cell_type": "code",
   "execution_count": 33,
   "metadata": {
    "id": "DVEI5MHbyrp7"
   },
   "outputs": [],
   "source": [
    "# new tokenizer with num_words = 1500\n",
    "vocab = 1500\n",
    "tokenizer = Tokenizer(num_words = vocab)\n",
    "tokenizer.fit_on_texts(x_train)\n",
    "word_index = tokenizer.word_index"
   ]
  },
  {
   "cell_type": "code",
   "execution_count": 34,
   "metadata": {
    "id": "KrYQi4-WzJ3N"
   },
   "outputs": [],
   "source": [
    "# convert to sequences\n",
    "x_train_seq = tokenizer.texts_to_sequences(x_train)\n",
    "x_val_seq = tokenizer.texts_to_sequences(x_val)\n",
    "test_data_seq = tokenizer.texts_to_sequences(test_data.text)"
   ]
  },
  {
   "cell_type": "code",
   "execution_count": 35,
   "metadata": {
    "id": "UOqsw9nizKcy"
   },
   "outputs": [],
   "source": [
    "# padding\n",
    "pad_x_train = tf.keras.utils.pad_sequences(x_train_seq, maxlen = 33)\n",
    "pad_x_val = tf.keras.utils.pad_sequences(x_val_seq, maxlen = 33)\n",
    "pad_x_test = tf.keras.utils.pad_sequences(test_data_seq, maxlen = 33)"
   ]
  },
  {
   "cell_type": "markdown",
   "metadata": {
    "id": "mrjIVYPC00L9"
   },
   "source": [
    "Create new model to fit new data with vocab size 1500."
   ]
  },
  {
   "cell_type": "code",
   "execution_count": 36,
   "metadata": {
    "id": "lGq3XbB20hFq"
   },
   "outputs": [
    {
     "name": "stdout",
     "output_type": "stream",
     "text": [
      "Model: \"sequential_2\"\n",
      "_________________________________________________________________\n",
      " Layer (type)                Output Shape              Param #   \n",
      "=================================================================\n",
      " embedding_2 (Embedding)     (None, 33, 64)            96000     \n",
      "                                                                 \n",
      " lstm_1 (LSTM)               (None, 128)               98816     \n",
      "                                                                 \n",
      " dense_2 (Dense)             (None, 1)                 129       \n",
      "                                                                 \n",
      "=================================================================\n",
      "Total params: 194945 (761.50 KB)\n",
      "Trainable params: 194945 (761.50 KB)\n",
      "Non-trainable params: 0 (0.00 Byte)\n",
      "_________________________________________________________________\n"
     ]
    }
   ],
   "source": [
    "model2 = Sequential()\n",
    "model2.add(layers.Embedding(vocab, 64, input_length = 33))\n",
    "model2.add(layers.LSTM(128))\n",
    "model2.add(layers.Dense(1, activation = 'sigmoid'))\n",
    "model2.compile(optimizer=\"adam\", loss=\"mse\", metrics=[\"accuracy\"])\n",
    "model2.summary()"
   ]
  },
  {
   "cell_type": "code",
   "execution_count": 37,
   "metadata": {
    "id": "UF3xNf8z1GDW"
   },
   "outputs": [
    {
     "name": "stdout",
     "output_type": "stream",
     "text": [
      "Epoch 1/20\n",
      "188/188 [==============================] - 3s 15ms/step - loss: 0.1797 - accuracy: 0.7345 - val_loss: 0.1488 - val_accuracy: 0.7856\n",
      "Epoch 2/20\n",
      "188/188 [==============================] - 3s 15ms/step - loss: 0.1240 - accuracy: 0.8322 - val_loss: 0.1444 - val_accuracy: 0.8003\n",
      "Epoch 3/20\n",
      "188/188 [==============================] - 3s 15ms/step - loss: 0.1101 - accuracy: 0.8555 - val_loss: 0.1603 - val_accuracy: 0.7902\n",
      "Epoch 4/20\n",
      "188/188 [==============================] - 3s 15ms/step - loss: 0.1021 - accuracy: 0.8672 - val_loss: 0.1521 - val_accuracy: 0.7869\n",
      "Epoch 5/20\n",
      "188/188 [==============================] - 3s 16ms/step - loss: 0.0920 - accuracy: 0.8843 - val_loss: 0.1575 - val_accuracy: 0.7829\n",
      "Epoch 6/20\n",
      "188/188 [==============================] - 3s 15ms/step - loss: 0.0838 - accuracy: 0.8950 - val_loss: 0.1796 - val_accuracy: 0.7689\n",
      "Epoch 7/20\n",
      "188/188 [==============================] - 3s 15ms/step - loss: 0.0782 - accuracy: 0.9046 - val_loss: 0.1772 - val_accuracy: 0.7756\n",
      "Epoch 8/20\n",
      "188/188 [==============================] - 3s 15ms/step - loss: 0.0703 - accuracy: 0.9140 - val_loss: 0.1970 - val_accuracy: 0.7542\n",
      "Epoch 9/20\n",
      "188/188 [==============================] - 3s 15ms/step - loss: 0.0669 - accuracy: 0.9198 - val_loss: 0.2058 - val_accuracy: 0.7508\n",
      "Epoch 10/20\n",
      "188/188 [==============================] - 3s 15ms/step - loss: 0.0623 - accuracy: 0.9279 - val_loss: 0.2082 - val_accuracy: 0.7562\n",
      "Epoch 11/20\n",
      "188/188 [==============================] - 3s 15ms/step - loss: 0.0577 - accuracy: 0.9324 - val_loss: 0.1982 - val_accuracy: 0.7622\n",
      "Epoch 12/20\n",
      "188/188 [==============================] - 3s 15ms/step - loss: 0.0549 - accuracy: 0.9352 - val_loss: 0.2043 - val_accuracy: 0.7568\n",
      "Epoch 13/20\n",
      "188/188 [==============================] - 3s 15ms/step - loss: 0.0504 - accuracy: 0.9436 - val_loss: 0.1984 - val_accuracy: 0.7702\n",
      "Epoch 14/20\n",
      "188/188 [==============================] - 3s 15ms/step - loss: 0.0469 - accuracy: 0.9471 - val_loss: 0.2080 - val_accuracy: 0.7575\n",
      "Epoch 15/20\n",
      "188/188 [==============================] - 3s 15ms/step - loss: 0.0447 - accuracy: 0.9489 - val_loss: 0.2130 - val_accuracy: 0.7528\n",
      "Epoch 16/20\n",
      "188/188 [==============================] - 3s 15ms/step - loss: 0.0404 - accuracy: 0.9542 - val_loss: 0.2204 - val_accuracy: 0.7462\n",
      "Epoch 17/20\n",
      "188/188 [==============================] - 3s 15ms/step - loss: 0.0388 - accuracy: 0.9571 - val_loss: 0.2182 - val_accuracy: 0.7555\n",
      "Epoch 18/20\n",
      "188/188 [==============================] - 3s 15ms/step - loss: 0.0402 - accuracy: 0.9534 - val_loss: 0.2174 - val_accuracy: 0.7488\n",
      "Epoch 19/20\n",
      "188/188 [==============================] - 3s 15ms/step - loss: 0.0360 - accuracy: 0.9593 - val_loss: 0.2259 - val_accuracy: 0.7482\n",
      "Epoch 20/20\n",
      "188/188 [==============================] - 3s 15ms/step - loss: 0.0339 - accuracy: 0.9633 - val_loss: 0.2240 - val_accuracy: 0.7528\n"
     ]
    }
   ],
   "source": [
    "epochs = 20\n",
    "history = model2.fit(pad_x_train, y_train, validation_data = (pad_x_val, y_val), epochs = epochs)"
   ]
  },
  {
   "cell_type": "code",
   "execution_count": 38,
   "metadata": {
    "id": "wiLY2PMLPaF8"
   },
   "outputs": [
    {
     "data": {
      "image/png": "[encoded data removed]",
      "text/plain": [
       "<Figure size 432x288 with 1 Axes>"
      ]
     },
     "metadata": {
      "needs_background": "light"
     },
     "output_type": "display_data"
    }
   ],
   "source": [
    "epochs_range = range(epochs)\n",
    "\n",
    "plt.plot(epochs_range, history.history['accuracy'], label='Training')\n",
    "plt.plot(epochs_range, history.history['val_accuracy'], label='Validation')\n",
    "plt.legend()\n",
    "plt.show()"
   ]
  },
  {
   "cell_type": "markdown",
   "metadata": {
    "id": "h-FSpD-_Dn_x"
   },
   "source": [
    "This model seems overfitted. So, I will add dropout and regularizer."
   ]
  },
  {
   "cell_type": "code",
   "execution_count": 39,
   "metadata": {
    "id": "sOG5upWa1Iyp"
   },
   "outputs": [
    {
     "name": "stdout",
     "output_type": "stream",
     "text": [
      "Model: \"sequential_3\"\n",
      "_________________________________________________________________\n",
      " Layer (type)                Output Shape              Param #   \n",
      "=================================================================\n",
      " embedding_3 (Embedding)     (None, 33, 64)            96000     \n",
      "                                                                 \n",
      " lstm_2 (LSTM)               (None, 64)                33024     \n",
      "                                                                 \n",
      " dense_3 (Dense)             (None, 64)                4160      \n",
      "                                                                 \n",
      " dropout (Dropout)           (None, 64)                0         \n",
      "                                                                 \n",
      " dense_4 (Dense)             (None, 1)                 65        \n",
      "                                                                 \n",
      "=================================================================\n",
      "Total params: 133249 (520.50 KB)\n",
      "Trainable params: 133249 (520.50 KB)\n",
      "Non-trainable params: 0 (0.00 Byte)\n",
      "_________________________________________________________________\n"
     ]
    }
   ],
   "source": [
    "model3 = Sequential()\n",
    "model3.add(layers.Embedding(vocab, 64, input_length = 33, embeddings_regularizer='L2'))\n",
    "model3.add(layers.LSTM(64))\n",
    "model3.add(layers.Dense(64, activation = 'relu'))\n",
    "model3.add(layers.Dropout(0.2))\n",
    "model3.add(layers.Dense(1, activation = 'sigmoid'))\n",
    "model3.compile(optimizer=\"adam\", loss=\"mse\", metrics=[\"accuracy\"])\n",
    "model3.summary()"
   ]
  },
  {
   "cell_type": "code",
   "execution_count": 40,
   "metadata": {
    "id": "hHa2yD4jCPRl"
   },
   "outputs": [
    {
     "name": "stdout",
     "output_type": "stream",
     "text": [
      "Epoch 1/30\n",
      "188/188 [==============================] - 2s 8ms/step - loss: 0.2907 - accuracy: 0.6421 - val_loss: 0.2183 - val_accuracy: 0.6981\n",
      "Epoch 2/30\n",
      "188/188 [==============================] - 1s 7ms/step - loss: 0.2109 - accuracy: 0.7493 - val_loss: 0.2016 - val_accuracy: 0.7709\n",
      "Epoch 3/30\n",
      "188/188 [==============================] - 1s 7ms/step - loss: 0.1945 - accuracy: 0.7796 - val_loss: 0.1908 - val_accuracy: 0.7842\n",
      "Epoch 4/30\n",
      "188/188 [==============================] - 1s 7ms/step - loss: 0.1834 - accuracy: 0.7928 - val_loss: 0.1804 - val_accuracy: 0.7923\n",
      "Epoch 5/30\n",
      "188/188 [==============================] - 1s 7ms/step - loss: 0.1740 - accuracy: 0.8049 - val_loss: 0.1768 - val_accuracy: 0.7936\n",
      "Epoch 6/30\n",
      "188/188 [==============================] - 1s 7ms/step - loss: 0.1676 - accuracy: 0.8130 - val_loss: 0.1902 - val_accuracy: 0.7642\n",
      "Epoch 7/30\n",
      "188/188 [==============================] - 1s 7ms/step - loss: 0.1646 - accuracy: 0.8185 - val_loss: 0.1780 - val_accuracy: 0.7916\n",
      "Epoch 8/30\n",
      "188/188 [==============================] - 1s 7ms/step - loss: 0.1583 - accuracy: 0.8283 - val_loss: 0.1721 - val_accuracy: 0.7989\n",
      "Epoch 9/30\n",
      "188/188 [==============================] - 1s 7ms/step - loss: 0.1551 - accuracy: 0.8268 - val_loss: 0.1846 - val_accuracy: 0.7695\n",
      "Epoch 10/30\n",
      "188/188 [==============================] - 1s 7ms/step - loss: 0.1519 - accuracy: 0.8287 - val_loss: 0.1739 - val_accuracy: 0.7909\n",
      "Epoch 11/30\n",
      "188/188 [==============================] - 1s 7ms/step - loss: 0.1458 - accuracy: 0.8397 - val_loss: 0.1744 - val_accuracy: 0.7862\n",
      "Epoch 12/30\n",
      "188/188 [==============================] - 1s 7ms/step - loss: 0.1422 - accuracy: 0.8410 - val_loss: 0.1706 - val_accuracy: 0.8016\n",
      "Epoch 13/30\n",
      "188/188 [==============================] - 1s 7ms/step - loss: 0.1409 - accuracy: 0.8469 - val_loss: 0.1716 - val_accuracy: 0.7949\n",
      "Epoch 14/30\n",
      "188/188 [==============================] - 1s 7ms/step - loss: 0.1381 - accuracy: 0.8489 - val_loss: 0.1716 - val_accuracy: 0.8009\n",
      "Epoch 15/30\n",
      "188/188 [==============================] - 1s 7ms/step - loss: 0.1381 - accuracy: 0.8537 - val_loss: 0.1738 - val_accuracy: 0.7949\n",
      "Epoch 16/30\n",
      "188/188 [==============================] - 1s 7ms/step - loss: 0.1335 - accuracy: 0.8589 - val_loss: 0.1752 - val_accuracy: 0.7983\n",
      "Epoch 17/30\n",
      "188/188 [==============================] - 1s 7ms/step - loss: 0.1296 - accuracy: 0.8682 - val_loss: 0.1749 - val_accuracy: 0.7983\n",
      "Epoch 18/30\n",
      "188/188 [==============================] - 1s 7ms/step - loss: 0.1321 - accuracy: 0.8627 - val_loss: 0.1736 - val_accuracy: 0.8056\n",
      "Epoch 19/30\n",
      "188/188 [==============================] - 1s 7ms/step - loss: 0.1305 - accuracy: 0.8644 - val_loss: 0.1806 - val_accuracy: 0.7969\n",
      "Epoch 20/30\n",
      "188/188 [==============================] - 1s 7ms/step - loss: 0.1309 - accuracy: 0.8689 - val_loss: 0.1825 - val_accuracy: 0.7842\n",
      "Epoch 21/30\n",
      "188/188 [==============================] - 1s 7ms/step - loss: 0.1248 - accuracy: 0.8756 - val_loss: 0.1844 - val_accuracy: 0.7882\n",
      "Epoch 22/30\n",
      "188/188 [==============================] - 1s 7ms/step - loss: 0.1260 - accuracy: 0.8739 - val_loss: 0.1854 - val_accuracy: 0.7896\n",
      "Epoch 23/30\n",
      "188/188 [==============================] - 1s 7ms/step - loss: 0.1241 - accuracy: 0.8779 - val_loss: 0.1954 - val_accuracy: 0.7822\n",
      "Epoch 24/30\n",
      "188/188 [==============================] - 1s 7ms/step - loss: 0.1249 - accuracy: 0.8768 - val_loss: 0.1982 - val_accuracy: 0.7769\n",
      "Epoch 25/30\n",
      "188/188 [==============================] - 1s 7ms/step - loss: 0.1240 - accuracy: 0.8784 - val_loss: 0.1874 - val_accuracy: 0.7916\n",
      "Epoch 26/30\n",
      "188/188 [==============================] - 1s 8ms/step - loss: 0.1210 - accuracy: 0.8854 - val_loss: 0.2108 - val_accuracy: 0.7609\n",
      "Epoch 27/30\n",
      "188/188 [==============================] - 1s 8ms/step - loss: 0.1214 - accuracy: 0.8814 - val_loss: 0.1937 - val_accuracy: 0.7836\n",
      "Epoch 28/30\n",
      "188/188 [==============================] - 1s 8ms/step - loss: 0.1160 - accuracy: 0.8854 - val_loss: 0.1935 - val_accuracy: 0.7796\n",
      "Epoch 29/30\n",
      "188/188 [==============================] - 1s 7ms/step - loss: 0.1160 - accuracy: 0.8904 - val_loss: 0.1983 - val_accuracy: 0.7856\n",
      "Epoch 30/30\n",
      "188/188 [==============================] - 1s 7ms/step - loss: 0.1185 - accuracy: 0.8923 - val_loss: 0.1984 - val_accuracy: 0.7802\n"
     ]
    }
   ],
   "source": [
    "epochs = 30\n",
    "history = model3.fit(pad_x_train, y_train, validation_data = (pad_x_val, y_val), epochs = epochs)"
   ]
  },
  {
   "cell_type": "code",
   "execution_count": 41,
   "metadata": {
    "id": "lqmSunq6PXFl"
   },
   "outputs": [
    {
     "data": {
      "image/png": "[encoded data removed]",
      "text/plain": [
       "<Figure size 432x288 with 1 Axes>"
      ]
     },
     "metadata": {
      "needs_background": "light"
     },
     "output_type": "display_data"
    }
   ],
   "source": [
    "epochs_range = range(epochs)\n",
    "\n",
    "plt.plot(epochs_range, history.history['accuracy'], label='Training')\n",
    "plt.plot(epochs_range, history.history['val_accuracy'], label='Validation')\n",
    "plt.legend()\n",
    "plt.show()"
   ]
  },
  {
   "cell_type": "markdown",
   "metadata": {
    "id": "EUTmY15Fowao"
   },
   "source": [
    "Overfitted issue seems to be better. But still not total resolved. So, I will add more dropout."
   ]
  },
  {
   "cell_type": "code",
   "execution_count": 42,
   "metadata": {
    "id": "FIujIID0DI4Y"
   },
   "outputs": [
    {
     "name": "stdout",
     "output_type": "stream",
     "text": [
      "Model: \"sequential_4\"\n",
      "_________________________________________________________________\n",
      " Layer (type)                Output Shape              Param #   \n",
      "=================================================================\n",
      " embedding_4 (Embedding)     (None, 33, 64)            96000     \n",
      "                                                                 \n",
      " gru (GRU)                   (None, 128)               74496     \n",
      "                                                                 \n",
      " dense_5 (Dense)             (None, 128)               16512     \n",
      "                                                                 \n",
      " dropout_1 (Dropout)         (None, 128)               0         \n",
      "                                                                 \n",
      " dense_6 (Dense)             (None, 1)                 129       \n",
      "                                                                 \n",
      "=================================================================\n",
      "Total params: 187137 (731.00 KB)\n",
      "Trainable params: 187137 (731.00 KB)\n",
      "Non-trainable params: 0 (0.00 Byte)\n",
      "_________________________________________________________________\n"
     ]
    }
   ],
   "source": [
    "model4 = Sequential()\n",
    "model4.add(layers.Embedding(vocab, 64, input_length = 33, embeddings_regularizer='L2'))\n",
    "model4.add(layers.GRU(128, dropout=0.2))\n",
    "model4.add(layers.Dense(128, activation = 'relu'))\n",
    "model4.add(layers.Dropout(0.2))\n",
    "model4.add(layers.Dense(1, activation = 'sigmoid'))\n",
    "model4.compile(optimizer=\"adam\", loss=\"mse\", metrics=[\"accuracy\"])\n",
    "model4.summary()"
   ]
  },
  {
   "cell_type": "code",
   "execution_count": 43,
   "metadata": {
    "id": "BfUYajybFLzU"
   },
   "outputs": [
    {
     "name": "stdout",
     "output_type": "stream",
     "text": [
      "Epoch 1/20\n",
      "188/188 [==============================] - 3s 14ms/step - loss: 0.2875 - accuracy: 0.6638 - val_loss: 0.2067 - val_accuracy: 0.7562\n",
      "Epoch 2/20\n",
      "188/188 [==============================] - 3s 14ms/step - loss: 0.2080 - accuracy: 0.7637 - val_loss: 0.1973 - val_accuracy: 0.7849\n",
      "Epoch 3/20\n",
      "188/188 [==============================] - 3s 14ms/step - loss: 0.1914 - accuracy: 0.7916 - val_loss: 0.1914 - val_accuracy: 0.7923\n",
      "Epoch 4/20\n",
      "188/188 [==============================] - 3s 14ms/step - loss: 0.1847 - accuracy: 0.8006 - val_loss: 0.1830 - val_accuracy: 0.7862\n",
      "Epoch 5/20\n",
      "188/188 [==============================] - 3s 14ms/step - loss: 0.1799 - accuracy: 0.8049 - val_loss: 0.1831 - val_accuracy: 0.7969\n",
      "Epoch 6/20\n",
      "188/188 [==============================] - 3s 13ms/step - loss: 0.1796 - accuracy: 0.8031 - val_loss: 0.1835 - val_accuracy: 0.7902\n",
      "Epoch 7/20\n",
      "188/188 [==============================] - 3s 14ms/step - loss: 0.1731 - accuracy: 0.8113 - val_loss: 0.1863 - val_accuracy: 0.7949\n",
      "Epoch 8/20\n",
      "188/188 [==============================] - 3s 13ms/step - loss: 0.1678 - accuracy: 0.8203 - val_loss: 0.1920 - val_accuracy: 0.7715\n",
      "Epoch 9/20\n",
      "188/188 [==============================] - 3s 13ms/step - loss: 0.1697 - accuracy: 0.8166 - val_loss: 0.1781 - val_accuracy: 0.7976\n",
      "Epoch 10/20\n",
      "188/188 [==============================] - 3s 14ms/step - loss: 0.1640 - accuracy: 0.8223 - val_loss: 0.1808 - val_accuracy: 0.7943\n",
      "Epoch 11/20\n",
      "188/188 [==============================] - 3s 14ms/step - loss: 0.1663 - accuracy: 0.8226 - val_loss: 0.1828 - val_accuracy: 0.7943\n",
      "Epoch 12/20\n",
      "188/188 [==============================] - 3s 14ms/step - loss: 0.1597 - accuracy: 0.8272 - val_loss: 0.1732 - val_accuracy: 0.8110\n",
      "Epoch 13/20\n",
      "188/188 [==============================] - 3s 14ms/step - loss: 0.1613 - accuracy: 0.8272 - val_loss: 0.1797 - val_accuracy: 0.8049\n",
      "Epoch 14/20\n",
      "188/188 [==============================] - 3s 14ms/step - loss: 0.1615 - accuracy: 0.8302 - val_loss: 0.1782 - val_accuracy: 0.8023\n",
      "Epoch 15/20\n",
      "188/188 [==============================] - 3s 13ms/step - loss: 0.1590 - accuracy: 0.8325 - val_loss: 0.1785 - val_accuracy: 0.8069\n",
      "Epoch 16/20\n",
      "188/188 [==============================] - 3s 13ms/step - loss: 0.1586 - accuracy: 0.8343 - val_loss: 0.1884 - val_accuracy: 0.7842\n",
      "Epoch 17/20\n",
      "188/188 [==============================] - 3s 14ms/step - loss: 0.1582 - accuracy: 0.8335 - val_loss: 0.1826 - val_accuracy: 0.8009\n",
      "Epoch 18/20\n",
      "188/188 [==============================] - 3s 14ms/step - loss: 0.1567 - accuracy: 0.8382 - val_loss: 0.1955 - val_accuracy: 0.7889\n",
      "Epoch 19/20\n",
      "188/188 [==============================] - 3s 14ms/step - loss: 0.1589 - accuracy: 0.8353 - val_loss: 0.1891 - val_accuracy: 0.7923\n",
      "Epoch 20/20\n",
      "188/188 [==============================] - 3s 14ms/step - loss: 0.1563 - accuracy: 0.8452 - val_loss: 0.1896 - val_accuracy: 0.7923\n"
     ]
    }
   ],
   "source": [
    "epochs = 20\n",
    "history = model4.fit(pad_x_train, y_train, validation_data = (pad_x_val, y_val), epochs = epochs)"
   ]
  },
  {
   "cell_type": "code",
   "execution_count": 44,
   "metadata": {
    "id": "4RSAD9yeOkqL"
   },
   "outputs": [
    {
     "data": {
      "image/png": "[encoded data removed]",
      "text/plain": [
       "<Figure size 432x288 with 1 Axes>"
      ]
     },
     "metadata": {
      "needs_background": "light"
     },
     "output_type": "display_data"
    }
   ],
   "source": [
    "epochs_range = range(epochs)\n",
    "\n",
    "plt.plot(epochs_range, history.history['accuracy'], label='Training')\n",
    "plt.plot(epochs_range, history.history['val_accuracy'], label='Validation')\n",
    "plt.legend()\n",
    "plt.show()"
   ]
  },
  {
   "cell_type": "markdown",
   "metadata": {
    "id": "h6EcOPbapGbo"
   },
   "source": [
    "This model looking good for me. So, I will use it to perdict test data. and submit to kaggle."
   ]
  },
  {
   "cell_type": "code",
   "execution_count": 45,
   "metadata": {
    "id": "V2nLGSOBIIP0"
   },
   "outputs": [
    {
     "name": "stdout",
     "output_type": "stream",
     "text": [
      "102/102 [==============================] - 0s 3ms/step\n",
      "Your submission was successfully saved!\n"
     ]
    }
   ],
   "source": [
    "predictions = model4.predict(pad_x_test)\n",
    "pre_bi = (predictions.flatten() >= 0.5).astype(int)\n",
    "output = pd.DataFrame({'id': test_data.id, 'target': pre_bi})\n",
    "output.to_csv('submission.csv', index=False)\n",
    "print(\"Your submission was successfully saved!\")"
   ]
  },
  {
   "cell_type": "markdown",
   "metadata": {
    "id": "XyfI3S9oMfMn"
   },
   "source": [
    "This model has score 0.78332. This model still a overfitted. I will try a new model with more dropout."
   ]
  },
  {
   "cell_type": "code",
   "execution_count": 46,
   "metadata": {
    "id": "e_8sBROSSiBf"
   },
   "outputs": [
    {
     "name": "stdout",
     "output_type": "stream",
     "text": [
      "Model: \"sequential_5\"\n",
      "_________________________________________________________________\n",
      " Layer (type)                Output Shape              Param #   \n",
      "=================================================================\n",
      " embedding_5 (Embedding)     (None, 33, 256)           384000    \n",
      "                                                                 \n",
      " gru_1 (GRU)                 (None, 128)               148224    \n",
      "                                                                 \n",
      " dense_7 (Dense)             (None, 128)               16512     \n",
      "                                                                 \n",
      " dropout_2 (Dropout)         (None, 128)               0         \n",
      "                                                                 \n",
      " dense_8 (Dense)             (None, 1)                 129       \n",
      "                                                                 \n",
      "=================================================================\n",
      "Total params: 548865 (2.09 MB)\n",
      "Trainable params: 548865 (2.09 MB)\n",
      "Non-trainable params: 0 (0.00 Byte)\n",
      "_________________________________________________________________\n"
     ]
    }
   ],
   "source": [
    "model5 = Sequential()\n",
    "model5.add(layers.Embedding(vocab, 256, input_length = 33, embeddings_regularizer='L2'))\n",
    "model5.add(layers.GRU(128, dropout=0.5))\n",
    "model5.add(layers.Dense(128, activation = 'relu'))\n",
    "model5.add(layers.Dropout(0.3))\n",
    "model5.add(layers.Dense(1, activation = 'sigmoid'))\n",
    "model5.compile(optimizer=\"adam\", loss=\"mse\", metrics=[\"accuracy\"])\n",
    "model5.summary()"
   ]
  },
  {
   "cell_type": "code",
   "execution_count": 47,
   "metadata": {
    "id": "P_hZhOUeqqOS"
   },
   "outputs": [
    {
     "name": "stdout",
     "output_type": "stream",
     "text": [
      "Epoch 1/20\n",
      "188/188 [==============================] - 5s 23ms/step - loss: 0.4773 - accuracy: 0.6673 - val_loss: 0.2377 - val_accuracy: 0.7562\n",
      "Epoch 2/20\n",
      "188/188 [==============================] - 4s 24ms/step - loss: 0.2425 - accuracy: 0.7629 - val_loss: 0.3137 - val_accuracy: 0.6219\n",
      "Epoch 3/20\n",
      "188/188 [==============================] - 4s 23ms/step - loss: 0.2291 - accuracy: 0.7842 - val_loss: 0.2175 - val_accuracy: 0.7889\n",
      "Epoch 4/20\n",
      "188/188 [==============================] - 4s 22ms/step - loss: 0.2165 - accuracy: 0.7879 - val_loss: 0.2139 - val_accuracy: 0.7896\n",
      "Epoch 5/20\n",
      "188/188 [==============================] - 4s 23ms/step - loss: 0.2127 - accuracy: 0.7929 - val_loss: 0.2139 - val_accuracy: 0.7882\n",
      "Epoch 6/20\n",
      "188/188 [==============================] - 4s 24ms/step - loss: 0.2048 - accuracy: 0.7994 - val_loss: 0.2056 - val_accuracy: 0.7876\n",
      "Epoch 7/20\n",
      "188/188 [==============================] - 4s 24ms/step - loss: 0.2063 - accuracy: 0.7988 - val_loss: 0.2030 - val_accuracy: 0.7963\n",
      "Epoch 8/20\n",
      "188/188 [==============================] - 4s 24ms/step - loss: 0.2044 - accuracy: 0.8019 - val_loss: 0.2042 - val_accuracy: 0.8009\n",
      "Epoch 9/20\n",
      "188/188 [==============================] - 5s 25ms/step - loss: 0.2024 - accuracy: 0.8031 - val_loss: 0.2079 - val_accuracy: 0.7923\n",
      "Epoch 10/20\n",
      "188/188 [==============================] - 5s 25ms/step - loss: 0.1998 - accuracy: 0.8108 - val_loss: 0.2125 - val_accuracy: 0.7802\n",
      "Epoch 11/20\n",
      "188/188 [==============================] - 5s 25ms/step - loss: 0.1996 - accuracy: 0.8118 - val_loss: 0.2048 - val_accuracy: 0.7963\n",
      "Epoch 12/20\n",
      "188/188 [==============================] - 5s 25ms/step - loss: 0.1975 - accuracy: 0.8141 - val_loss: 0.1994 - val_accuracy: 0.8009\n",
      "Epoch 13/20\n",
      "188/188 [==============================] - 5s 26ms/step - loss: 0.1976 - accuracy: 0.8198 - val_loss: 0.2083 - val_accuracy: 0.7983\n",
      "Epoch 14/20\n",
      "188/188 [==============================] - 5s 26ms/step - loss: 0.1993 - accuracy: 0.8151 - val_loss: 0.2052 - val_accuracy: 0.7976\n",
      "Epoch 15/20\n",
      "188/188 [==============================] - 5s 26ms/step - loss: 0.1965 - accuracy: 0.8186 - val_loss: 0.2039 - val_accuracy: 0.7969\n",
      "Epoch 16/20\n",
      "188/188 [==============================] - 5s 27ms/step - loss: 0.1938 - accuracy: 0.8116 - val_loss: 0.1990 - val_accuracy: 0.8016\n",
      "Epoch 17/20\n",
      "188/188 [==============================] - 5s 26ms/step - loss: 0.1931 - accuracy: 0.8190 - val_loss: 0.2062 - val_accuracy: 0.7996\n",
      "Epoch 18/20\n",
      "188/188 [==============================] - 5s 27ms/step - loss: 0.1986 - accuracy: 0.8158 - val_loss: 0.2141 - val_accuracy: 0.7796\n",
      "Epoch 19/20\n",
      "188/188 [==============================] - 5s 27ms/step - loss: 0.1952 - accuracy: 0.8218 - val_loss: 0.2073 - val_accuracy: 0.7923\n",
      "Epoch 20/20\n",
      "188/188 [==============================] - 5s 26ms/step - loss: 0.1948 - accuracy: 0.8185 - val_loss: 0.2053 - val_accuracy: 0.7923\n"
     ]
    }
   ],
   "source": [
    "epochs = 20\n",
    "history = model5.fit(pad_x_train, y_train, validation_data = (pad_x_val, y_val), epochs = epochs)"
   ]
  },
  {
   "cell_type": "code",
   "execution_count": 48,
   "metadata": {
    "id": "JP3trXJ6quD5"
   },
   "outputs": [
    {
     "data": {
      "image/png": "[encoded data removed]",
      "text/plain": [
       "<Figure size 432x288 with 1 Axes>"
      ]
     },
     "metadata": {
      "needs_background": "light"
     },
     "output_type": "display_data"
    }
   ],
   "source": [
    "epochs_range = range(epochs)\n",
    "\n",
    "plt.plot(epochs_range, history.history['accuracy'], label='Training')\n",
    "plt.plot(epochs_range, history.history['val_accuracy'], label='Validation')\n",
    "plt.legend()\n",
    "plt.show()"
   ]
  },
  {
   "cell_type": "markdown",
   "metadata": {},
   "source": [
    "This looks better. So, I will submit again."
   ]
  },
  {
   "cell_type": "code",
   "execution_count": 49,
   "metadata": {},
   "outputs": [
    {
     "name": "stdout",
     "output_type": "stream",
     "text": [
      "102/102 [==============================] - 1s 5ms/step\n",
      "Your submission was successfully saved!\n"
     ]
    }
   ],
   "source": [
    "predictions = model5.predict(pad_x_test)\n",
    "pre_bi = (predictions.flatten() >= 0.5).astype(int)\n",
    "output = pd.DataFrame({'id': test_data.id, 'target': pre_bi})\n",
    "output.to_csv('submission5.csv', index=False)\n",
    "print(\"Your submission was successfully saved!\")"
   ]
  },
  {
   "cell_type": "markdown",
   "metadata": {},
   "source": [
    "This model has score 0.78577 which is better a bit.\n",
    "\n",
    "I want to get better score. So, I try tuning hyperparameter around and comeup with this last model.\n",
    "\n",
    "P.S. I tried many thing off this notebook. But I think it's a bit too much. Therefore, I did not include those model in this notebook."
   ]
  },
  {
   "cell_type": "code",
   "execution_count": 54,
   "metadata": {},
   "outputs": [
    {
     "name": "stdout",
     "output_type": "stream",
     "text": [
      "Model: \"sequential_7\"\n",
      "_________________________________________________________________\n",
      " Layer (type)                Output Shape              Param #   \n",
      "=================================================================\n",
      " embedding_7 (Embedding)     (None, 33, 64)            96000     \n",
      "                                                                 \n",
      " gru_4 (GRU)                 (None, 33, 32)            9408      \n",
      "                                                                 \n",
      " gru_5 (GRU)                 (None, 32)                6336      \n",
      "                                                                 \n",
      " dense_11 (Dense)            (None, 32)                1056      \n",
      "                                                                 \n",
      " dropout_4 (Dropout)         (None, 32)                0         \n",
      "                                                                 \n",
      " dense_12 (Dense)            (None, 1)                 33        \n",
      "                                                                 \n",
      "=================================================================\n",
      "Total params: 112833 (440.75 KB)\n",
      "Trainable params: 112833 (440.75 KB)\n",
      "Non-trainable params: 0 (0.00 Byte)\n",
      "_________________________________________________________________\n"
     ]
    }
   ],
   "source": [
    "model6 = Sequential()\n",
    "model6.add(layers.Embedding(vocab, 64, input_length = 33, embeddings_regularizer='L2'))\n",
    "model6.add(layers.GRU(32, dropout=0.1, return_sequences= True))\n",
    "model6.add(layers.GRU(32, dropout=0.1))\n",
    "model6.add(layers.Dense(32, activation = 'relu'))\n",
    "model6.add(layers.Dropout(0.1))\n",
    "model6.add(layers.Dense(1, activation = 'sigmoid'))\n",
    "model6.compile(optimizer=\"adam\", loss=\"mse\", metrics=[\"accuracy\"])\n",
    "model6.summary()"
   ]
  },
  {
   "cell_type": "code",
   "execution_count": 55,
   "metadata": {},
   "outputs": [
    {
     "name": "stdout",
     "output_type": "stream",
     "text": [
      "Epoch 1/15\n",
      "188/188 [==============================] - 3s 9ms/step - loss: 0.2897 - accuracy: 0.6500 - val_loss: 0.2179 - val_accuracy: 0.7315\n",
      "Epoch 2/15\n",
      "188/188 [==============================] - 2s 9ms/step - loss: 0.2124 - accuracy: 0.7587 - val_loss: 0.2043 - val_accuracy: 0.7615\n",
      "Epoch 3/15\n",
      "188/188 [==============================] - 2s 9ms/step - loss: 0.1969 - accuracy: 0.7797 - val_loss: 0.1854 - val_accuracy: 0.7956\n",
      "Epoch 4/15\n",
      "188/188 [==============================] - 2s 9ms/step - loss: 0.1892 - accuracy: 0.7847 - val_loss: 0.1888 - val_accuracy: 0.7849\n",
      "Epoch 5/15\n",
      "188/188 [==============================] - 2s 9ms/step - loss: 0.1801 - accuracy: 0.8006 - val_loss: 0.1866 - val_accuracy: 0.7816\n",
      "Epoch 6/15\n",
      "188/188 [==============================] - 2s 9ms/step - loss: 0.1728 - accuracy: 0.8095 - val_loss: 0.1803 - val_accuracy: 0.7969\n",
      "Epoch 7/15\n",
      "188/188 [==============================] - 2s 9ms/step - loss: 0.1705 - accuracy: 0.8074 - val_loss: 0.1757 - val_accuracy: 0.7936\n",
      "Epoch 8/15\n",
      "188/188 [==============================] - 2s 9ms/step - loss: 0.1665 - accuracy: 0.8148 - val_loss: 0.1744 - val_accuracy: 0.7929\n",
      "Epoch 9/15\n",
      "188/188 [==============================] - 2s 9ms/step - loss: 0.1623 - accuracy: 0.8226 - val_loss: 0.1696 - val_accuracy: 0.7996\n",
      "Epoch 10/15\n",
      "188/188 [==============================] - 2s 9ms/step - loss: 0.1574 - accuracy: 0.8260 - val_loss: 0.1737 - val_accuracy: 0.7963\n",
      "Epoch 11/15\n",
      "188/188 [==============================] - 2s 10ms/step - loss: 0.1568 - accuracy: 0.8272 - val_loss: 0.1742 - val_accuracy: 0.8016\n",
      "Epoch 12/15\n",
      "188/188 [==============================] - 2s 9ms/step - loss: 0.1523 - accuracy: 0.8327 - val_loss: 0.1703 - val_accuracy: 0.8009\n",
      "Epoch 13/15\n",
      "188/188 [==============================] - 2s 9ms/step - loss: 0.1529 - accuracy: 0.8333 - val_loss: 0.1734 - val_accuracy: 0.8023\n",
      "Epoch 14/15\n",
      "188/188 [==============================] - 2s 9ms/step - loss: 0.1490 - accuracy: 0.8368 - val_loss: 0.1707 - val_accuracy: 0.7976\n",
      "Epoch 15/15\n",
      "188/188 [==============================] - 2s 9ms/step - loss: 0.1509 - accuracy: 0.8367 - val_loss: 0.1714 - val_accuracy: 0.7989\n"
     ]
    }
   ],
   "source": [
    "epochs = 15\n",
    "history = model6.fit(pad_x_train, y_train, validation_data = (pad_x_val, y_val), epochs = epochs)"
   ]
  },
  {
   "cell_type": "code",
   "execution_count": 56,
   "metadata": {},
   "outputs": [
    {
     "data": {
      "image/png": "[encoded data removed]",
      "text/plain": [
       "<Figure size 432x288 with 1 Axes>"
      ]
     },
     "metadata": {
      "needs_background": "light"
     },
     "output_type": "display_data"
    }
   ],
   "source": [
    "epochs_range = range(epochs)\n",
    "\n",
    "plt.plot(epochs_range, history.history['accuracy'], label='Training')\n",
    "plt.plot(epochs_range, history.history['val_accuracy'], label='Validation')\n",
    "plt.legend()\n",
    "plt.show()"
   ]
  },
  {
   "cell_type": "code",
   "execution_count": 57,
   "metadata": {},
   "outputs": [
    {
     "name": "stdout",
     "output_type": "stream",
     "text": [
      "102/102 [==============================] - 0s 2ms/step\n",
      "Your submission was successfully saved!\n"
     ]
    }
   ],
   "source": [
    "predictions = model6.predict(pad_x_test)\n",
    "pre_bi = (predictions.flatten() >= 0.5).astype(int)\n",
    "output = pd.DataFrame({'id': test_data.id, 'target': pre_bi})\n",
    "output.to_csv('submission6.csv', index=False)\n",
    "print(\"Your submission was successfully saved!\")"
   ]
  },
  {
   "cell_type": "markdown",
   "metadata": {},
   "source": [
    "Score for submit this prediction to Kaggle = 0.78486"
   ]
  },
  {
   "cell_type": "markdown",
   "metadata": {},
   "source": [
    "## Conclusion\n",
    "For this problem first we look at overview of the data. We did analysis based on our visualizations. Then, we clean it up (remove dulicate data). Then, we build classification model with RNN and tune it to get the best model (based on score from Kaggle our best model has score = 0.78577).\n",
    "\n",
    "Most of my models suffer from overfitted problem. I did tried a lot of thing to remove it. I can't remove it, but it's getting better with dropout, reduced vocab size and regularization. Future Improvement would be study new way to reduce overfitted and apply it the our models.\n",
    "\n",
    "From all of this I know how to do the classification from scratch with python and how to use kaggle."
   ]
  },
  {
   "cell_type": "markdown",
   "metadata": {},
   "source": [
    "github : https://github.com/Satjarporn/Disaster"
   ]
  }
 ],
 "metadata": {
  "colab": {
   "provenance": []
  },
  "kernelspec": {
   "display_name": "Python 3 (ipykernel)",
   "language": "python",
   "name": "python3"
  },
  "language_info": {
   "codemirror_mode": {
    "name": "ipython",
    "version": 3
   },
   "file_extension": ".py",
   "mimetype": "text/x-python",
   "name": "python",
   "nbconvert_exporter": "python",
   "pygments_lexer": "ipython3",
   "version": "3.10.12"
  }
 },
 "nbformat": 4,
 "nbformat_minor": 4
}
